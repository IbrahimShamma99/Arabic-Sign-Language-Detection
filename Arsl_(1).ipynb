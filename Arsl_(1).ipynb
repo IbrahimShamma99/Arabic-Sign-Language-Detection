{
  "nbformat": 4,
  "nbformat_minor": 0,
  "metadata": {
    "colab": {
      "name": "Arsl (1).ipynb",
      "provenance": [],
      "collapsed_sections": []
    },
    "kernelspec": {
      "name": "python3",
      "display_name": "Python 3"
    }
  },
  "cells": [
    {
      "cell_type": "code",
      "metadata": {
        "id": "PbNlBOTbjWp1",
        "colab_type": "code",
        "colab": {}
      },
      "source": [
        "#1WElmG2-sm61Zz7wA6KEawwNvh_cffeab\n",
        "#1PCwRx0ZEEIZLnz71fZC2m_I4ND0iIfNv"
      ],
      "execution_count": 0,
      "outputs": []
    },
    {
      "cell_type": "code",
      "metadata": {
        "id": "MjSQO28ojZLi",
        "colab_type": "code",
        "outputId": "f9a47e5c-aec2-4950-f781-0b023256359c",
        "colab": {
          "base_uri": "https://localhost:8080/",
          "height": 81
        }
      },
      "source": [
        "#dealing with drive Data\n",
        "import pydrive\n",
        "from pydrive.auth import GoogleAuth\n",
        "from pydrive.drive import GoogleDrive\n",
        "from google.colab import auth\n",
        "from oauth2client.client import GoogleCredentials\n",
        "#ML Libraries\n",
        "import os\n",
        "import keras\n",
        "from keras.models import Sequential\n",
        "from keras.layers import Dense, Activation, Dropout, Flatten, Conv2D, MaxPooling2D\n",
        "from keras.layers.normalization import BatchNormalization\n",
        "import numpy as np\n",
        "np.random.seed(1000)\n",
        "import pandas as pd\n",
        "from keras.utils import to_categorical\n",
        "from sklearn.model_selection import train_test_split\n",
        "from keras.preprocessing.image import ImageDataGenerator\n",
        "import cv2\n",
        "import tensorflow as tf\n",
        "from PIL import Image \n",
        "import matplotlib.pyplot as plt\n",
        "from keras.backend.tensorflow_backend import set_session\n",
        "from tensorflow.python.client import device_lib\n",
        "from sklearn.metrics import confusion_matrix ,classification_report\n",
        "from sklearn import metrics\n",
        "from sklearn.utils import shuffle\n",
        "from glob import glob\n",
        "import random\n",
        "import seaborn as sns\n",
        "from sklearn.preprocessing import LabelEncoder\n",
        "from sklearn.metrics import roc_curve\n",
        "from sklearn.metrics import roc_curve,roc_auc_score\n",
        "from sklearn.metrics.ranking import precision_recall_curve\n",
        "from sklearn.preprocessing import OneHotEncoder"
      ],
      "execution_count": 0,
      "outputs": [
        {
          "output_type": "stream",
          "text": [
            "Using TensorFlow backend.\n"
          ],
          "name": "stderr"
        },
        {
          "output_type": "display_data",
          "data": {
            "text/html": [
              "<p style=\"color: red;\">\n",
              "The default version of TensorFlow in Colab will soon switch to TensorFlow 2.x.<br>\n",
              "We recommend you <a href=\"https://www.tensorflow.org/guide/migrate\" target=\"_blank\">upgrade</a> now \n",
              "or ensure your notebook will continue to use TensorFlow 1.x via the <code>%tensorflow_version 1.x</code> magic:\n",
              "<a href=\"https://colab.research.google.com/notebooks/tensorflow_version.ipynb\" target=\"_blank\">more info</a>.</p>\n"
            ],
            "text/plain": [
              "<IPython.core.display.HTML object>"
            ]
          },
          "metadata": {
            "tags": []
          }
        }
      ]
    },
    {
      "cell_type": "code",
      "metadata": {
        "id": "QNZLzp3Hjfoj",
        "colab_type": "code",
        "colab": {}
      },
      "source": [
        "auth.authenticate_user()\n",
        "gauth = GoogleAuth()\n",
        "gauth.credentials = GoogleCredentials.get_application_default()\n",
        "drive = GoogleDrive(gauth)\n",
        "train_downloaded1 = drive.CreateFile({'id': '1WElmG2-sm61Zz7wA6KEawwNvh_cffeab'})\n",
        "train_downloaded1.GetContentFile('Zain.zip')\n",
        "train_downloaded2 = drive.CreateFile({'id': '1PCwRx0ZEEIZLnz71fZC2m_I4ND0iIfNv'})\n",
        "train_downloaded2.GetContentFile('Zain.csv')\n"
      ],
      "execution_count": 0,
      "outputs": []
    },
    {
      "cell_type": "code",
      "metadata": {
        "id": "xukI85qw5YhQ",
        "colab_type": "code",
        "outputId": "aefd18c9-3042-4ae2-8e61-b6218345c7e0",
        "colab": {
          "base_uri": "https://localhost:8080/",
          "height": 52
        }
      },
      "source": [
        "!unzip ./Zain.zip -d /content/zain"
      ],
      "execution_count": 0,
      "outputs": [
        {
          "output_type": "stream",
          "text": [
            "Archive:  ./Zain.zip\n",
            "replace /content/zain/ArASL_Database_54K_Final/ain/AIN (1).JPG? [y]es, [n]o, [A]ll, [N]one, [r]ename: "
          ],
          "name": "stdout"
        }
      ]
    },
    {
      "cell_type": "code",
      "metadata": {
        "id": "_pQiRIIs717w",
        "colab_type": "code",
        "colab": {}
      },
      "source": [
        "#os.listdir(\"../zain/ArASL_Database_54K_Final/thaa\")"
      ],
      "execution_count": 0,
      "outputs": []
    },
    {
      "cell_type": "code",
      "metadata": {
        "id": "DoS1wgiN-cpd",
        "colab_type": "code",
        "outputId": "0ebdf1f9-a5f5-4cbb-921e-e541f4a6aac0",
        "colab": {
          "base_uri": "https://localhost:8080/",
          "height": 228
        }
      },
      "source": [
        "keras.backend.get_session().run(tf.global_variables_initializer())\n",
        "config = tf.ConfigProto()\n",
        "config.gpu_options.allow_growth = True  # dynamically grow the memory used on the GPU\n",
        "config.log_device_placement = True  # to log device placement (on which device the operation ran)\n",
        "sess = tf.Session(config=config)\n",
        "set_session(sess)  # set this TensorFlow session as the default session for Keras"
      ],
      "execution_count": 0,
      "outputs": [
        {
          "output_type": "stream",
          "text": [
            "WARNING:tensorflow:From /usr/local/lib/python3.6/dist-packages/keras/backend/tensorflow_backend.py:190: The name tf.get_default_session is deprecated. Please use tf.compat.v1.get_default_session instead.\n",
            "\n",
            "WARNING:tensorflow:From /usr/local/lib/python3.6/dist-packages/keras/backend/tensorflow_backend.py:197: The name tf.ConfigProto is deprecated. Please use tf.compat.v1.ConfigProto instead.\n",
            "\n",
            "WARNING:tensorflow:From /usr/local/lib/python3.6/dist-packages/keras/backend/tensorflow_backend.py:203: The name tf.Session is deprecated. Please use tf.compat.v1.Session instead.\n",
            "\n",
            "WARNING:tensorflow:From /usr/local/lib/python3.6/dist-packages/keras/backend/tensorflow_backend.py:207: The name tf.global_variables is deprecated. Please use tf.compat.v1.global_variables instead.\n",
            "\n",
            "Device mapping:\n",
            "/job:localhost/replica:0/task:0/device:XLA_CPU:0 -> device: XLA_CPU device\n",
            "\n"
          ],
          "name": "stdout"
        }
      ]
    },
    {
      "cell_type": "code",
      "metadata": {
        "id": "NGsb8_9q-B9c",
        "colab_type": "code",
        "outputId": "95c41124-a6b4-433f-d9d1-456e7a2e397e",
        "colab": {
          "base_uri": "https://localhost:8080/",
          "height": 570
        }
      },
      "source": [
        "le = LabelEncoder()\n",
        "plt.figure(figsize=(16,9))\n",
        "sns.set_style('darkgrid')\n",
        "sns.distplot(le.fit_transform(pd.read_csv(\"Zain.csv\")[\"Class\"]))\n",
        "plt.title(\"Distribution of number of images each class\")\n"
      ],
      "execution_count": 0,
      "outputs": [
        {
          "output_type": "execute_result",
          "data": {
            "text/plain": [
              "Text(0.5, 1.0, 'Distribution of number of images each class')"
            ]
          },
          "metadata": {
            "tags": []
          },
          "execution_count": 7
        },
        {
          "output_type": "display_data",
          "data": {
            "image/png": "[encoded data removed]",
            "text/plain": [
              "<Figure size 1152x648 with 1 Axes>"
            ]
          },
          "metadata": {
            "tags": []
          }
        }
      ]
    },
    {
      "cell_type": "code",
      "metadata": {
        "id": "UzDeRW0GUp62",
        "colab_type": "code",
        "outputId": "1ae6d0cb-309b-4a43-d229-561c7e25cb45",
        "colab": {
          "base_uri": "https://localhost:8080/",
          "height": 34
        }
      },
      "source": [
        "os.getcwd()"
      ],
      "execution_count": 0,
      "outputs": [
        {
          "output_type": "execute_result",
          "data": {
            "text/plain": [
              "'/content'"
            ]
          },
          "metadata": {
            "tags": []
          },
          "execution_count": 8
        }
      ]
    },
    {
      "cell_type": "code",
      "metadata": {
        "id": "CgvsyH1A5Px9",
        "colab_type": "code",
        "outputId": "047f8865-6a66-41e3-c073-5ced4e30cadd",
        "colab": {
          "base_uri": "https://localhost:8080/",
          "height": 376
        }
      },
      "source": [
        "def plot_three_samples(letter):\n",
        "    print(\"Samples images for letter \" + letter)\n",
        "    letter = 'thaa'\n",
        "    base_path = '/content/zain/ArASL_Database_54K_Final/' +letter\n",
        "    os.chdir(base_path)\n",
        "    img_path = base_path + letter \n",
        "    path_contents = os.listdir()\n",
        "    img1 =cv2.imread(path_contents[0])\n",
        "    img2 =cv2.imread(path_contents[1])\n",
        "    img3 =cv2.imread(path_contents[2])\n",
        "    plt.figure(figsize=(16,16))\n",
        "    plt.subplot(131)\n",
        "    plt.imshow(img1)\n",
        "    plt.subplot(132)\n",
        "    plt.imshow(img2)\n",
        "    plt.subplot(133)\n",
        "    plt.imshow(img3)\n",
        "    return\n",
        "\n",
        "plot_three_samples('thaa')\n",
        "os.chdir(\"../\")\n",
        "os.getcwd()"
      ],
      "execution_count": 0,
      "outputs": [
        {
          "output_type": "stream",
          "text": [
            "Samples images for letter thaa\n"
          ],
          "name": "stdout"
        },
        {
          "output_type": "error",
          "ename": "FileNotFoundError",
          "evalue": "ignored",
          "traceback": [
            "\u001b[0;31m---------------------------------------------------------------------------\u001b[0m",
            "\u001b[0;31mFileNotFoundError\u001b[0m                         Traceback (most recent call last)",
            "\u001b[0;32m<ipython-input-9-308d90ea942e>\u001b[0m in \u001b[0;36m<module>\u001b[0;34m()\u001b[0m\n\u001b[1;32m     18\u001b[0m     \u001b[0;32mreturn\u001b[0m\u001b[0;34m\u001b[0m\u001b[0;34m\u001b[0m\u001b[0m\n\u001b[1;32m     19\u001b[0m \u001b[0;34m\u001b[0m\u001b[0m\n\u001b[0;32m---> 20\u001b[0;31m \u001b[0mplot_three_samples\u001b[0m\u001b[0;34m(\u001b[0m\u001b[0;34m'thaa'\u001b[0m\u001b[0;34m)\u001b[0m\u001b[0;34m\u001b[0m\u001b[0;34m\u001b[0m\u001b[0m\n\u001b[0m\u001b[1;32m     21\u001b[0m \u001b[0mos\u001b[0m\u001b[0;34m.\u001b[0m\u001b[0mchdir\u001b[0m\u001b[0;34m(\u001b[0m\u001b[0;34m\"../\"\u001b[0m\u001b[0;34m)\u001b[0m\u001b[0;34m\u001b[0m\u001b[0;34m\u001b[0m\u001b[0m\n\u001b[1;32m     22\u001b[0m \u001b[0mos\u001b[0m\u001b[0;34m.\u001b[0m\u001b[0mgetcwd\u001b[0m\u001b[0;34m(\u001b[0m\u001b[0;34m)\u001b[0m\u001b[0;34m\u001b[0m\u001b[0;34m\u001b[0m\u001b[0m\n",
            "\u001b[0;32m<ipython-input-9-308d90ea942e>\u001b[0m in \u001b[0;36mplot_three_samples\u001b[0;34m(letter)\u001b[0m\n\u001b[1;32m      3\u001b[0m     \u001b[0mletter\u001b[0m \u001b[0;34m=\u001b[0m \u001b[0;34m'thaa'\u001b[0m\u001b[0;34m\u001b[0m\u001b[0;34m\u001b[0m\u001b[0m\n\u001b[1;32m      4\u001b[0m     \u001b[0mbase_path\u001b[0m \u001b[0;34m=\u001b[0m \u001b[0;34m'/content/zain/ArASL_Database_54K_Final/'\u001b[0m \u001b[0;34m+\u001b[0m\u001b[0mletter\u001b[0m\u001b[0;34m\u001b[0m\u001b[0;34m\u001b[0m\u001b[0m\n\u001b[0;32m----> 5\u001b[0;31m     \u001b[0mos\u001b[0m\u001b[0;34m.\u001b[0m\u001b[0mchdir\u001b[0m\u001b[0;34m(\u001b[0m\u001b[0mbase_path\u001b[0m\u001b[0;34m)\u001b[0m\u001b[0;34m\u001b[0m\u001b[0;34m\u001b[0m\u001b[0m\n\u001b[0m\u001b[1;32m      6\u001b[0m     \u001b[0mimg_path\u001b[0m \u001b[0;34m=\u001b[0m \u001b[0mbase_path\u001b[0m \u001b[0;34m+\u001b[0m \u001b[0mletter\u001b[0m\u001b[0;34m\u001b[0m\u001b[0;34m\u001b[0m\u001b[0m\n\u001b[1;32m      7\u001b[0m     \u001b[0mpath_contents\u001b[0m \u001b[0;34m=\u001b[0m \u001b[0mos\u001b[0m\u001b[0;34m.\u001b[0m\u001b[0mlistdir\u001b[0m\u001b[0;34m(\u001b[0m\u001b[0;34m)\u001b[0m\u001b[0;34m\u001b[0m\u001b[0;34m\u001b[0m\u001b[0m\n",
            "\u001b[0;31mFileNotFoundError\u001b[0m: [Errno 2] No such file or directory: '/content/zain/ArASL_Database_54K_Final/thaa'"
          ]
        }
      ]
    },
    {
      "cell_type": "code",
      "metadata": {
        "id": "QC1hnkloOcwc",
        "colab_type": "code",
        "colab": {}
      },
      "source": [
        ""
      ],
      "execution_count": 0,
      "outputs": []
    },
    {
      "cell_type": "code",
      "metadata": {
        "id": "CNdhobiECRoL",
        "colab_type": "code",
        "colab": {}
      },
      "source": [
        "def preprocess_image(image):\n",
        "    sobely = cv2.Sobel(image, cv2.CV_64F, 0, 1, ksize=5)\n",
        "    return sobely\n",
        "def make_generator(options):\n",
        "    validation_split = options.get('validation_split', 0.0)\n",
        "    preprocessor = options.get('preprocessor', None)\n",
        "    data_dir = options.get('data_dir', TRAIN_DIR)\n",
        "\n",
        "    augmentor_options = {\n",
        "        'samplewise_center': True,\n",
        "        'samplewise_std_normalization': True,\n",
        "    }\n",
        "    if validation_split is not None:\n",
        "        augmentor_options['validation_split'] = validation_split\n",
        "    \n",
        "    if preprocessor is not None:\n",
        "        augmentor_options['preprocessing_function'] = preprocessor\n",
        "    \n",
        "    flow_options = {\n",
        "        'target_size': TARGET_SIZE,\n",
        "        'batch_size': BATCH_SIZE,\n",
        "        'shuffle': options.get('shuffle', None),\n",
        "        'subset': options.get('subset', None),\n",
        "    }\n",
        "\n",
        "    data_augmentor = ImageDataGenerator(**augmentor_options)\n",
        "    return data_augmentor.flow_from_directory(data_dir, **flow_options)\n"
      ],
      "execution_count": 0,
      "outputs": []
    },
    {
      "cell_type": "code",
      "metadata": {
        "id": "7FOqahQvlKMx",
        "colab_type": "code",
        "colab": {}
      },
      "source": [
        "data_dir = os.getcwd()\n",
        "target_size = (64, 64)\n",
        "target_dims = (64, 64, 3) # add channel for RGB\n",
        "n_classes = 32\n",
        "val_frac = 0.1\n",
        "batch_size = 64\n",
        "\n",
        "data_augmentor = ImageDataGenerator(samplewise_center=True, \n",
        "                                    samplewise_std_normalization=True, \n",
        "                                    validation_split=val_frac)\n",
        "\n",
        "train_generator = data_augmentor.flow_from_directory(data_dir, target_size=target_size, batch_size=batch_size, shuffle=True, subset=\"training\")\n",
        "val_generator = data_augmentor.flow_from_directory(data_dir, target_size=target_size, batch_size=batch_size, subset=\"validation\")\n",
        "\n"
      ],
      "execution_count": 0,
      "outputs": []
    },
    {
      "cell_type": "code",
      "metadata": {
        "id": "gxSR-p8Jpl-Y",
        "colab_type": "code",
        "colab": {}
      },
      "source": [
        "num_category = 32\n",
        "input_shape = (64,64,3)\n",
        "\n",
        "model = Sequential()\n",
        "model.add(Conv2D(64, kernel_size=(3,3), activation = 'relu', input_shape=input_shape ))\n",
        "model.add(MaxPooling2D(pool_size = (2, 2)))\n",
        "\n",
        "model.add(Conv2D(64, kernel_size = (3, 3), activation = 'relu'))\n",
        "model.add(MaxPooling2D(pool_size = (2, 2)))\n",
        "\n",
        "model.add(Conv2D(64, kernel_size = (3, 3), activation = 'relu'))\n",
        "model.add(MaxPooling2D(pool_size = (2, 2)))\n",
        "\n",
        "model.add(Flatten())\n",
        "model.add(Dense(128, activation = 'relu'))\n",
        "model.add(Dropout(0.20))\n",
        "model.add(Dense(num_category, activation = 'softmax'))\n",
        "\n",
        "model.compile(loss = keras.losses.categorical_crossentropy, optimizer=keras.optimizers.Adam(),\n",
        "              metrics=['accuracy'])\n"
      ],
      "execution_count": 0,
      "outputs": []
    },
    {
      "cell_type": "code",
      "metadata": {
        "id": "XeUUPZzmqY5D",
        "colab_type": "code",
        "colab": {}
      },
      "source": [
        "history =model.fit_generator(train_generator, epochs=2, validation_data=val_generator)"
      ],
      "execution_count": 0,
      "outputs": []
    },
    {
      "cell_type": "code",
      "metadata": {
        "id": "nmA0BoREAgKj",
        "colab_type": "code",
        "colab": {}
      },
      "source": [
        "plt.plot(history.history['acc'])\n",
        "plt.plot(history.history['val_acc'])\n",
        "plt.title(\"Accuracy\")\n",
        "plt.xlabel('epoch')\n",
        "plt.ylabel('accuracy')\n",
        "plt.legend(['train','test'])\n",
        "plt.show()\n"
      ],
      "execution_count": 0,
      "outputs": []
    },
    {
      "cell_type": "code",
      "metadata": {
        "id": "uimhYQ_rVslq",
        "colab_type": "code",
        "colab": {}
      },
      "source": [
        "y_val_cat_prob = model.predict_generator(val_generator)"
      ],
      "execution_count": 0,
      "outputs": []
    },
    {
      "cell_type": "code",
      "metadata": {
        "id": "49oBF9JPTd1m",
        "colab_type": "code",
        "colab": {}
      },
      "source": [
        "n_classes =y_val_cat_prob.shape[1]\n",
        "n_set = y_val_cat_prob[0]"
      ],
      "execution_count": 0,
      "outputs": []
    },
    {
      "cell_type": "code",
      "metadata": {
        "id": "4wXJLdburNUV",
        "colab_type": "code",
        "colab": {}
      },
      "source": [
        "onehot_encoder = OneHotEncoder(sparse=False)\n",
        "#onehot_encoded = onehot_encoder.fit_transform(integer_encoded)"
      ],
      "execution_count": 0,
      "outputs": []
    },
    {
      "cell_type": "code",
      "metadata": {
        "id": "vUvlMI5Zr3cm",
        "colab_type": "code",
        "colab": {}
      },
      "source": [
        "y_val_cat_prob.shape"
      ],
      "execution_count": 0,
      "outputs": []
    },
    {
      "cell_type": "code",
      "metadata": {
        "id": "VNKPvVH2v4UN",
        "colab_type": "code",
        "colab": {}
      },
      "source": [
        "type(y_val_cat.argmax(axis=1)[0])"
      ],
      "execution_count": 0,
      "outputs": []
    },
    {
      "cell_type": "code",
      "metadata": {
        "id": "konXtoZhZOKl",
        "colab_type": "code",
        "colab": {}
      },
      "source": [
        "from sklearn.metrics import  accuracy_score , f1_score , balanced_accuracy_score , max_error\n",
        "\n",
        "#F1 SCORE\n",
        "f1_score( np.array(y_val_cat.argmax(axis=1)),np.array(y_val_cat_prob.argmax(axis=1)),average=\"micro\")"
      ],
      "execution_count": 0,
      "outputs": []
    },
    {
      "cell_type": "code",
      "metadata": {
        "id": "673BNgDbZGGs",
        "colab_type": "code",
        "colab": {}
      },
      "source": [
        "#ACCURACY SCORE\n",
        "accuracy_score(np.array(y_val_cat.argmax(axis=1)),  np.array(y_val_cat_prob.argmax(axis=1)))"
      ],
      "execution_count": 0,
      "outputs": []
    },
    {
      "cell_type": "code",
      "metadata": {
        "id": "XixlYJeYxOPC",
        "colab_type": "code",
        "colab": {}
      },
      "source": [
        "#BALANCED ACCURACY SCORE\n",
        "balanced_accuracy_score(np.array(y_val_cat.argmax(axis=1)),  np.array(y_val_cat_prob.argmax(axis=1)))"
      ],
      "execution_count": 0,
      "outputs": []
    },
    {
      "cell_type": "code",
      "metadata": {
        "id": "gerQl2b1xZD0",
        "colab_type": "code",
        "colab": {}
      },
      "source": [
        "#MAX ERROR\n",
        "max_error(np.array(y_val_cat.argmax(axis=1)),  np.array(y_val_cat_prob.argmax(axis=1)))"
      ],
      "execution_count": 0,
      "outputs": []
    },
    {
      "cell_type": "code",
      "metadata": {
        "id": "-j_z-H3JxxW1",
        "colab_type": "code",
        "colab": {}
      },
      "source": [
        ""
      ],
      "execution_count": 0,
      "outputs": []
    }
  ]
}